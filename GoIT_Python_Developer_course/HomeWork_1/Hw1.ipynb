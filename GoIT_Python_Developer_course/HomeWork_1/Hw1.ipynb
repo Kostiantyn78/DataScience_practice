{
 "cells": [
  {
   "cell_type": "code",
   "execution_count": 1,
   "id": "b4ed9e91-6118-433e-80d2-4b2a38b12a2f",
   "metadata": {},
   "outputs": [],
   "source": [
    "import numpy as np\n",
    "import random"
   ]
  },
  {
   "cell_type": "markdown",
   "id": "f728fb17-db46-4900-8468-2baa34c4838c",
   "metadata": {},
   "source": [
    "#### 1. Створіть одновимірний масив (вектор) з першими 10-ма натуральними числами та виведіть його значення."
   ]
  },
  {
   "cell_type": "code",
   "execution_count": 2,
   "id": "954a2472-f73e-4cf0-bb91-13edf1068d71",
   "metadata": {},
   "outputs": [
    {
     "name": "stdout",
     "output_type": "stream",
     "text": [
      "[ 1  2  3  4  5  6  7  8  9 10]\n"
     ]
    }
   ],
   "source": [
    "a = np.array([i for i in range(1,11)], dtype=int)\n",
    "print(a)"
   ]
  },
  {
   "cell_type": "markdown",
   "id": "7492cdbf-61ec-4213-b124-a7a35009e519",
   "metadata": {},
   "source": [
    "#### 2. Створіть двовимірний масив (матрицю) розміром 3x3, заповніть його нулями та виведіть його значення."
   ]
  },
  {
   "cell_type": "code",
   "execution_count": 3,
   "id": "4dccf0a7-8d10-4925-b095-660a62b00228",
   "metadata": {},
   "outputs": [
    {
     "name": "stdout",
     "output_type": "stream",
     "text": [
      "[[0 0 0]\n",
      " [0 0 0]\n",
      " [0 0 0]]\n"
     ]
    }
   ],
   "source": [
    "a = np.zeros((3, 3), dtype=int)\n",
    "print(a)"
   ]
  },
  {
   "cell_type": "markdown",
   "id": "f409a98d-4bde-44ee-8084-8e309edd717b",
   "metadata": {},
   "source": [
    "#### 3. Створіть масив розміром 5x5, заповніть його випадковими цілими числами в діапазоні від 1 до 10 та виведіть його значення."
   ]
  },
  {
   "cell_type": "code",
   "execution_count": 4,
   "id": "fd1aa788-d7d2-4834-bb7b-bc5f594be094",
   "metadata": {},
   "outputs": [
    {
     "name": "stdout",
     "output_type": "stream",
     "text": [
      "[[10  7  5  4  3]\n",
      " [10  3  5 10  8]\n",
      " [ 1  7  2  3  6]\n",
      " [ 5  9  9  3 10]\n",
      " [ 9  1 10 10 10]]\n"
     ]
    }
   ],
   "source": [
    "m = 5\n",
    "n = 5\n",
    "\n",
    "a = np.array(([random.randint(1, 10) for _ in range(m * n)]), dtype=int)\n",
    "b = a.reshape(m, n)\n",
    "print(b)"
   ]
  },
  {
   "cell_type": "markdown",
   "id": "bd2a77ed-9469-41e1-b80f-97b37cdcc929",
   "metadata": {},
   "source": [
    "#### 4. Створіть масив розміром 4x4, заповніть його випадковими дійсними числами в діапазоні від 0 до 1 та виведіть його значення."
   ]
  },
  {
   "cell_type": "code",
   "execution_count": 5,
   "id": "9f2b7c40-c660-4ca1-9640-c936c669a08b",
   "metadata": {},
   "outputs": [
    {
     "name": "stdout",
     "output_type": "stream",
     "text": [
      "[[0.15910514 0.08209474 0.42736903 0.80480011]\n",
      " [0.09495236 0.17763116 0.32217246 0.72617075]\n",
      " [0.2077647  0.68726204 0.78693222 0.94453491]\n",
      " [0.37621409 0.95211253 0.66645398 0.25971385]]\n"
     ]
    }
   ],
   "source": [
    "m = 4\n",
    "n = 4\n",
    "\n",
    "a = np.array(([random.uniform(0.0, 1.0) for _ in range(m * n)]), dtype=float)\n",
    "b = a.reshape(m, n)\n",
    "print(b)"
   ]
  },
  {
   "cell_type": "markdown",
   "id": "7725094c-a33f-4c71-802e-0324c4014671",
   "metadata": {},
   "source": [
    "#### 5. Створіть два одновимірних масиви розміром 5, заповніть їх випадковими цілими числами в діапазоні від 1 до 10 та виконайте на них поелементні операції додавання, віднімання та множення."
   ]
  },
  {
   "cell_type": "code",
   "execution_count": 6,
   "id": "bd3935f3-43d6-46d9-ab77-ec42736a7b9f",
   "metadata": {},
   "outputs": [
    {
     "name": "stdout",
     "output_type": "stream",
     "text": [
      "a: [1 1 8 2 5]\n",
      "b: [7 4 8 3 8]\n",
      "a + b: [ 8  5 16  5 13]\n",
      "a - b: [-6 -3  0 -1 -3]\n",
      "a * b: [ 7  4 64  6 40]\n"
     ]
    }
   ],
   "source": [
    "n = 5\n",
    "\n",
    "a = np.array([random.randint(1, 10) for _ in range(n)])\n",
    "b = np.array([random.randint(1, 10) for _ in range(n)])\n",
    "\n",
    "print('a:', a)\n",
    "print('b:', b)\n",
    "print('a + b:', a + b)\n",
    "print('a - b:', a - b)\n",
    "print('a * b:', a * b)"
   ]
  },
  {
   "cell_type": "markdown",
   "id": "6ec3e957-75e8-43e1-8b8d-51c7e488266b",
   "metadata": {},
   "source": [
    "#### 6. Створіть два вектори розміром 7, заповніть довільними числами та знайдіть їх скалярний добуток."
   ]
  },
  {
   "cell_type": "code",
   "execution_count": 7,
   "id": "2127b980-4878-4c92-b72d-df5b306a20d7",
   "metadata": {},
   "outputs": [
    {
     "name": "stdout",
     "output_type": "stream",
     "text": [
      "[4 2 3 3 3 2 3]\n",
      "[4 4 2 1 1 3 1]\n",
      "Скалярний добуток векторів:  45\n"
     ]
    }
   ],
   "source": [
    "n = 7\n",
    "\n",
    "a = np.array([random.randint(1, 5) for _ in range(n)])\n",
    "b = np.array([random.randint(1, 5) for _ in range(n)])\n",
    "print(a, b, sep='\\n')\n",
    "print ('Скалярний добуток векторів: ', np.dot(a, b))"
   ]
  },
  {
   "cell_type": "markdown",
   "id": "1d3cc914-42db-447a-8d3a-d7ec856f3d3c",
   "metadata": {},
   "source": [
    "#### 7. Створіть дві матриці розміром 2x2 та 2x3, заповніть їх випадковими цілими числами в діапазоні від 1 до 10 та перемножте їх між собою."
   ]
  },
  {
   "cell_type": "code",
   "execution_count": 8,
   "id": "8b04520c-c792-42a0-b208-b19a406244cf",
   "metadata": {},
   "outputs": [
    {
     "name": "stdout",
     "output_type": "stream",
     "text": [
      "[[8 7]\n",
      " [3 1]]\n",
      "[[2 2 1]\n",
      " [9 7 1]]\n",
      "Добуток матриць: \n",
      "[[79 65 15]\n",
      " [15 13  4]]\n"
     ]
    }
   ],
   "source": [
    "a = np.array([random.randint(1, 10) for _ in range(4)])\n",
    "a = a.reshape(2, 2)\n",
    "b = np.array([random.randint(1, 10) for _ in range(6)])\n",
    "b = b.reshape(2, 3)\n",
    "print(a, b, sep='\\n')\n",
    "с = np.dot(a, b)\n",
    "print ('Добуток матриць: ', с, sep='\\n')"
   ]
  },
  {
   "cell_type": "markdown",
   "id": "7ddc0f7e-045c-4499-bf71-b73f3fb3f2b0",
   "metadata": {},
   "source": [
    "#### 8. Створіть матрицю розміром 3x3, заповніть її випадковими цілими числами в діапазоні від 1 до 10 та знайдіть її обернену матрицю."
   ]
  },
  {
   "cell_type": "code",
   "execution_count": 9,
   "id": "3ea34e49-7a51-4fd7-80e2-ce9e4a9e4881",
   "metadata": {},
   "outputs": [
    {
     "name": "stdout",
     "output_type": "stream",
     "text": [
      "[[ 0.14210526 -0.11578947  0.08421053]\n",
      " [ 0.04736842  0.29473684 -0.30526316]\n",
      " [-0.16315789 -0.12631579  0.27368421]]\n"
     ]
    }
   ],
   "source": [
    "m = 3\n",
    "a = np.array([random.randint(1, 10) for _ in range(m * m)])\n",
    "a = a.reshape(m, m)\n",
    "a_inv = np.linalg.inv(a)\n",
    "print(a_inv)"
   ]
  },
  {
   "cell_type": "markdown",
   "id": "38d0706f-9104-4b62-a666-a15deadc3bf0",
   "metadata": {},
   "source": [
    "#### 9. Створіть матрицю розміром 4x4, заповніть її випадковими дійсними числами в діапазоні від 0 до 1 та транспонуйте її."
   ]
  },
  {
   "cell_type": "code",
   "execution_count": 10,
   "id": "e5a6dee8-cd78-40a5-bc5a-9dc6b586b328",
   "metadata": {},
   "outputs": [
    {
     "name": "stdout",
     "output_type": "stream",
     "text": [
      "Вихідна матриця:\n",
      "[[0.56751209 0.63721974 0.93346898 0.67724418]\n",
      " [0.68923913 0.54452505 0.74548528 0.0771147 ]\n",
      " [0.49968104 0.33703179 0.11795492 0.35399293]\n",
      " [0.06688333 0.53589614 0.95730997 0.75528452]]\n",
      "Транспонована матриця:\n",
      "[[0.56751209 0.68923913 0.49968104 0.06688333]\n",
      " [0.63721974 0.54452505 0.33703179 0.53589614]\n",
      " [0.93346898 0.74548528 0.11795492 0.95730997]\n",
      " [0.67724418 0.0771147  0.35399293 0.75528452]]\n"
     ]
    }
   ],
   "source": [
    "m = 4\n",
    "a = np.array([random.uniform(0.0, 1.0) for _ in range(m * m)])\n",
    "a = a.reshape(m, m)\n",
    "print('Вихідна матриця:', a, sep='\\n')\n",
    "print('Транспонована матриця:', a.T, sep='\\n')"
   ]
  },
  {
   "cell_type": "markdown",
   "id": "a09ef519-51cb-4367-9d06-8df46c45a66f",
   "metadata": {},
   "source": [
    "#### 10. Створіть матрицю розміром 3x4 та вектор розміром 4, заповніть їх випадковими цілими числами в діапазоні від 1 до 10 та перемножте матрицю на вектор."
   ]
  },
  {
   "cell_type": "code",
   "execution_count": 11,
   "id": "d6cfb4bd-2dde-44ad-a143-9073e5ae088c",
   "metadata": {},
   "outputs": [
    {
     "name": "stdout",
     "output_type": "stream",
     "text": [
      "Матриця А:\n",
      "[[ 8  3  8  6]\n",
      " [ 9  1  9 10]\n",
      " [ 3  7  8  6]]\n",
      "Вектор b:\n",
      "[2 8 2 3]\n",
      "Добуток А на b:\n",
      "[74 74 96]\n"
     ]
    }
   ],
   "source": [
    "a = np.array([random.randint(1, 10) for _ in range(12)])\n",
    "a = a.reshape(3, 4)\n",
    "print('Матриця А:', a, sep='\\n')\n",
    "b = np.array([random.randint(1, 11) for _ in range(4)])\n",
    "print('Вектор b:', b, sep='\\n')\n",
    "c = np.dot(a, b)\n",
    "print('Добуток А на b:', c, sep='\\n')"
   ]
  },
  {
   "cell_type": "markdown",
   "id": "34358760-5ff5-47b8-a0b4-bf1568203ce9",
   "metadata": {},
   "source": [
    "#### 11. Створіть матрицю розміром 2x3 та вектор розміром 3, заповніть їх випадковими дійсними числами в діапазоні від 0 до 1 та перемножте матрицю на вектор."
   ]
  },
  {
   "cell_type": "code",
   "execution_count": 12,
   "id": "d0f00d6a-288d-4852-8304-677433553d17",
   "metadata": {},
   "outputs": [
    {
     "name": "stdout",
     "output_type": "stream",
     "text": [
      "Матриця А:\n",
      "[[0.6709929  0.03300303 0.82950699]\n",
      " [0.72817546 0.86395738 0.36387843]]\n",
      "Вектор b:\n",
      "[0.38466359 0.59466284 0.48859535]\n",
      "Добуток А на b:\n",
      "[0.68302547 0.97165525]\n"
     ]
    }
   ],
   "source": [
    "a = np.array([random.uniform(0.0, 1.0) for _ in range(6)])\n",
    "a = a.reshape(2, 3)\n",
    "print('Матриця А:', a, sep='\\n')\n",
    "b = np.array([random.uniform(0.0, 1.0) for _ in range(3)])\n",
    "print('Вектор b:', b, sep='\\n')\n",
    "c = np.dot(a, b)\n",
    "print('Добуток А на b:', c, sep='\\n')"
   ]
  },
  {
   "cell_type": "markdown",
   "id": "3b232815-4b0a-4313-92c1-c1c5b4cebb2d",
   "metadata": {},
   "source": [
    "#### 12. Створіть дві матриці розміром 2x2, заповніть їх випадковими цілими числами в діапазоні від 1 до 10 та виконайте їхнє поелементне множення."
   ]
  },
  {
   "cell_type": "code",
   "execution_count": 13,
   "id": "c5eb7ab0-4b06-4aac-9e4a-1e592c7d7090",
   "metadata": {},
   "outputs": [
    {
     "name": "stdout",
     "output_type": "stream",
     "text": [
      "Матриця А:\n",
      "[[3 2]\n",
      " [6 6]]\n",
      "Матриця B:\n",
      "[[1 7]\n",
      " [9 9]]\n",
      "Поелементне множення А на B:\n",
      "[[ 3 14]\n",
      " [54 54]]\n"
     ]
    }
   ],
   "source": [
    "m = 2\n",
    "a = np.random.randint(1, 11, (m, m))\n",
    "print('Матриця А:', a, sep='\\n')\n",
    "b = np.random.randint(1, 11, (m, m))\n",
    "print('Матриця B:', b, sep='\\n')\n",
    "c = a * b\n",
    "print('Поелементне множення А на B:', c, sep='\\n')"
   ]
  },
  {
   "cell_type": "markdown",
   "id": "0aba6e8d-94a2-49d2-9604-3bf0cf5c9320",
   "metadata": {},
   "source": [
    "#### 13. Створіть дві матриці розміром 2x2, заповніть їх випадковими цілими числами в діапазоні від 1 до 10 та знайдіть їх добуток."
   ]
  },
  {
   "cell_type": "code",
   "execution_count": 14,
   "id": "b224bc2a-9d48-4f05-bd7d-8f929e77da62",
   "metadata": {},
   "outputs": [
    {
     "name": "stdout",
     "output_type": "stream",
     "text": [
      "Матриця А:\n",
      "[[ 4  1]\n",
      " [ 2 10]]\n",
      "Матриця B:\n",
      "[[5 2]\n",
      " [9 9]]\n",
      "Добуток А на B:\n",
      "[[ 29  17]\n",
      " [100  94]]\n"
     ]
    }
   ],
   "source": [
    "m = 2\n",
    "a = np.random.randint(1, 11, (m, m))\n",
    "print('Матриця А:', a, sep='\\n')\n",
    "b = np.random.randint(1, 11, (m, m))\n",
    "print('Матриця B:', b, sep='\\n')\n",
    "c = np.dot(a, b)\n",
    "print('Добуток А на B:', c, sep='\\n')"
   ]
  },
  {
   "cell_type": "markdown",
   "id": "baa2d7b2-ac8e-49e9-ba69-b6d515df56b9",
   "metadata": {},
   "source": [
    "#### 14. Створіть матрицю розміром 5x5, заповніть її випадковими цілими числами в діапазоні від 1 до 100 та знайдіть суму елементів матриці."
   ]
  },
  {
   "cell_type": "code",
   "execution_count": 15,
   "id": "92e41142-9903-4f1e-aacf-5111144cdcf0",
   "metadata": {},
   "outputs": [
    {
     "name": "stdout",
     "output_type": "stream",
     "text": [
      "Матриця А:\n",
      "[[41 60  6 66 86]\n",
      " [63 59 27 90 69]\n",
      " [93 15 61 75 49]\n",
      " [60 65 34 18 99]\n",
      " [64 31 19 79 93]]\n",
      "Сума елементів матриці:\n",
      "1422\n"
     ]
    }
   ],
   "source": [
    "m = 5\n",
    "a = np.random.randint(1, 100, (m, m))\n",
    "print('Матриця А:', a, sep='\\n')\n",
    "print('Сума елементів матриці:', a.sum(), sep='\\n')"
   ]
  },
  {
   "cell_type": "markdown",
   "id": "4e2641c4-02d9-4093-950b-71c2113a8a20",
   "metadata": {},
   "source": [
    "#### 15. Створіть дві матриці розміром 4x4, заповніть їх випадковими цілими числами в діапазоні від 1 до 10 та знайдіть їхню різницю."
   ]
  },
  {
   "cell_type": "code",
   "execution_count": 16,
   "id": "a09fedcc-2370-4f23-bcf7-f664e232b0de",
   "metadata": {},
   "outputs": [
    {
     "name": "stdout",
     "output_type": "stream",
     "text": [
      "Матриця А:\n",
      "[[9 7 6 5]\n",
      " [6 7 3 9]\n",
      " [7 2 9 1]\n",
      " [3 2 2 5]]\n",
      "Матриця B:\n",
      "[[3 7 2 5]\n",
      " [2 8 4 7]\n",
      " [2 5 9 5]\n",
      " [2 8 1 5]]\n",
      "Різниця матриць А і В:\n",
      "[[ 6  0  4  0]\n",
      " [ 4 -1 -1  2]\n",
      " [ 5 -3  0 -4]\n",
      " [ 1 -6  1  0]]\n"
     ]
    }
   ],
   "source": [
    "m = 4\n",
    "a = np.random.randint(1, 10, (m, m))\n",
    "print('Матриця А:', a, sep='\\n')\n",
    "b = np.random.randint(1, 10, (m, m))\n",
    "print('Матриця B:', b, sep='\\n')\n",
    "print('Різниця матриць А і В:', a - b, sep='\\n')"
   ]
  },
  {
   "cell_type": "markdown",
   "id": "875517de-18cf-489c-b92a-b742906c5801",
   "metadata": {},
   "source": [
    "#### 16. Створіть матрицю розміром 3x3, заповніть її випадковими дійсними числами в діапазоні від 0 до 1 та знайдіть вектор-стовпчик, що містить суму елементів кожного рядка матриці."
   ]
  },
  {
   "cell_type": "code",
   "execution_count": 17,
   "id": "bcfd7e08-520e-4d3c-8567-6e41d036a621",
   "metadata": {},
   "outputs": [
    {
     "name": "stdout",
     "output_type": "stream",
     "text": [
      "Матриця А:\n",
      "[[0.47245139 0.85804543 0.75347027]\n",
      " [0.28735259 0.46954618 0.03006951]\n",
      " [0.73810449 0.53061642 0.03868319]]\n",
      "Вектор-стовпчик, що містить суму елементів кожного рядка матриці:\n",
      "[[2.0839671 ]\n",
      " [0.78696827]\n",
      " [1.3074041 ]]\n"
     ]
    }
   ],
   "source": [
    "m = 3\n",
    "a = np.random.rand(m, m)\n",
    "print('Матриця А:', a, sep='\\n')\n",
    "row_sums = np.sum(a, axis=1, keepdims=True)\n",
    "print('Вектор-стовпчик, що містить суму елементів кожного рядка матриці:', row_sums, sep='\\n')"
   ]
  },
  {
   "cell_type": "markdown",
   "id": "e21f6393-183f-40d3-9512-03fb85a90d8a",
   "metadata": {},
   "source": [
    "#### 17. Створіть матрицю розміром 3x4 з довільними цілими числами і створінь матрицю з квадратами цих чисел."
   ]
  },
  {
   "cell_type": "code",
   "execution_count": 18,
   "id": "1606f086-937d-4876-927e-52ae26d03d79",
   "metadata": {},
   "outputs": [
    {
     "name": "stdout",
     "output_type": "stream",
     "text": [
      "Початкова матриця:\n",
      "[[2 2 4 9]\n",
      " [1 4 3 8]\n",
      " [3 2 7 4]]\n",
      "Матриця з квадратами чисел початкової матриці:\n",
      "[[ 4  4 16 81]\n",
      " [ 1 16  9 64]\n",
      " [ 9  4 49 16]]\n"
     ]
    }
   ],
   "source": [
    "m = 3\n",
    "n = 4\n",
    "a = np.random.randint(1, 10, (m, n))\n",
    "print('Початкова матриця:', a, sep='\\n')\n",
    "squared_matrix = np.square(a)\n",
    "print(\"Матриця з квадратами чисел початкової матриці:\", squared_matrix, sep='\\n')"
   ]
  },
  {
   "cell_type": "markdown",
   "id": "20f38c07-1d49-419a-9bc8-b9cfc397e061",
   "metadata": {},
   "source": [
    "#### 18. Створіть вектор розміром 4, заповніть його випадковими цілими числами в діапазоні від 1 до 50 та знайдіть вектор з квадратними коренями цих чисел."
   ]
  },
  {
   "cell_type": "code",
   "execution_count": 19,
   "id": "2c32637a-5ddf-43fd-a21f-fd7f73265bd6",
   "metadata": {},
   "outputs": [
    {
     "name": "stdout",
     "output_type": "stream",
     "text": [
      "Початковий вектор:\n",
      "[48 14 19 32]\n",
      "Вектор з квадратними коренями чисел початкового вектора:\n",
      "[6.92820323 3.74165739 4.35889894 5.65685425]\n"
     ]
    }
   ],
   "source": [
    "m = 4\n",
    "vector_a = np.random.randint(1, 50, m)\n",
    "print('Початковий вектор:', vector_a, sep='\\n')\n",
    "sqrt_vector = np.sqrt(vector_a)\n",
    "print(\"Вектор з квадратними коренями чисел початкового вектора:\", sqrt_vector, sep='\\n')"
   ]
  }
 ],
 "metadata": {
  "kernelspec": {
   "display_name": "Python 3 (ipykernel)",
   "language": "python",
   "name": "python3"
  },
  "language_info": {
   "codemirror_mode": {
    "name": "ipython",
    "version": 3
   },
   "file_extension": ".py",
   "mimetype": "text/x-python",
   "name": "python",
   "nbconvert_exporter": "python",
   "pygments_lexer": "ipython3",
   "version": "3.10.11"
  }
 },
 "nbformat": 4,
 "nbformat_minor": 5
}
