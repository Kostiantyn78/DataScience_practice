{
 "cells": [
  {
   "cell_type": "markdown",
   "id": "d8d1f036-0cd0-45bb-8f69-ba9a0ea613c4",
   "metadata": {},
   "source": [
    "### **Dataset analysis with Kaggle.com**"
   ]
  },
  {
   "cell_type": "markdown",
   "id": "1eb162a8-bad7-43d1-99b9-7cb34c44d29c",
   "metadata": {},
   "source": [
    "#### We use data from the Top 50 best-selling books on Amazon for 11 years (from 2009 to 2019).\n",
    "[LINK](https://www.kaggle.com/datasets/sootersaalu/amazon-top-50-bestselling-books-2009-2019)"
   ]
  },
  {
   "cell_type": "code",
   "execution_count": 1,
   "id": "ac9108e9-ace5-4844-b616-3f037c0a7547",
   "metadata": {},
   "outputs": [],
   "source": [
    "import pandas as pd\n",
    "%matplotlib inline\n",
    "import matplotlib.pyplot as plt\n",
    "import seaborn as sns"
   ]
  },
  {
   "cell_type": "markdown",
   "id": "9341f24c-d6c7-4cb0-9b8d-8655f1b05572",
   "metadata": {},
   "source": [
    "#### Read a csv file (use the \"read_csv\" function)"
   ]
  },
  {
   "cell_type": "code",
   "execution_count": 2,
   "id": "e5f3aef8-b2b9-4e9e-8947-4563dd199d90",
   "metadata": {},
   "outputs": [],
   "source": [
    "df = pd.read_csv('bestsellers with categories.csv')"
   ]
  },
  {
   "cell_type": "markdown",
   "id": "40af84b6-f041-4e53-aa88-2e7e79ca4225",
   "metadata": {},
   "source": [
    "#### Print the first five lines (use the \"head\" function)"
   ]
  },
  {
   "cell_type": "code",
   "execution_count": 3,
   "id": "feb130ba-5a4e-41a8-883f-9a7318134613",
   "metadata": {},
   "outputs": [
    {
     "data": {
      "text/html": [
       "<div>\n",
       "<style scoped>\n",
       "    .dataframe tbody tr th:only-of-type {\n",
       "        vertical-align: middle;\n",
       "    }\n",
       "\n",
       "    .dataframe tbody tr th {\n",
       "        vertical-align: top;\n",
       "    }\n",
       "\n",
       "    .dataframe thead th {\n",
       "        text-align: right;\n",
       "    }\n",
       "</style>\n",
       "<table border=\"1\" class=\"dataframe\">\n",
       "  <thead>\n",
       "    <tr style=\"text-align: right;\">\n",
       "      <th></th>\n",
       "      <th>Name</th>\n",
       "      <th>Author</th>\n",
       "      <th>User Rating</th>\n",
       "      <th>Reviews</th>\n",
       "      <th>Price</th>\n",
       "      <th>Year</th>\n",
       "      <th>Genre</th>\n",
       "    </tr>\n",
       "  </thead>\n",
       "  <tbody>\n",
       "    <tr>\n",
       "      <th>0</th>\n",
       "      <td>10-Day Green Smoothie Cleanse</td>\n",
       "      <td>JJ Smith</td>\n",
       "      <td>4.7</td>\n",
       "      <td>17350</td>\n",
       "      <td>8</td>\n",
       "      <td>2016</td>\n",
       "      <td>Non Fiction</td>\n",
       "    </tr>\n",
       "    <tr>\n",
       "      <th>1</th>\n",
       "      <td>11/22/63: A Novel</td>\n",
       "      <td>Stephen King</td>\n",
       "      <td>4.6</td>\n",
       "      <td>2052</td>\n",
       "      <td>22</td>\n",
       "      <td>2011</td>\n",
       "      <td>Fiction</td>\n",
       "    </tr>\n",
       "    <tr>\n",
       "      <th>2</th>\n",
       "      <td>12 Rules for Life: An Antidote to Chaos</td>\n",
       "      <td>Jordan B. Peterson</td>\n",
       "      <td>4.7</td>\n",
       "      <td>18979</td>\n",
       "      <td>15</td>\n",
       "      <td>2018</td>\n",
       "      <td>Non Fiction</td>\n",
       "    </tr>\n",
       "    <tr>\n",
       "      <th>3</th>\n",
       "      <td>1984 (Signet Classics)</td>\n",
       "      <td>George Orwell</td>\n",
       "      <td>4.7</td>\n",
       "      <td>21424</td>\n",
       "      <td>6</td>\n",
       "      <td>2017</td>\n",
       "      <td>Fiction</td>\n",
       "    </tr>\n",
       "    <tr>\n",
       "      <th>4</th>\n",
       "      <td>5,000 Awesome Facts (About Everything!) (Natio...</td>\n",
       "      <td>National Geographic Kids</td>\n",
       "      <td>4.8</td>\n",
       "      <td>7665</td>\n",
       "      <td>12</td>\n",
       "      <td>2019</td>\n",
       "      <td>Non Fiction</td>\n",
       "    </tr>\n",
       "  </tbody>\n",
       "</table>\n",
       "</div>"
      ],
      "text/plain": [
       "                                                Name  \\\n",
       "0                      10-Day Green Smoothie Cleanse   \n",
       "1                                  11/22/63: A Novel   \n",
       "2            12 Rules for Life: An Antidote to Chaos   \n",
       "3                             1984 (Signet Classics)   \n",
       "4  5,000 Awesome Facts (About Everything!) (Natio...   \n",
       "\n",
       "                     Author  User Rating  Reviews  Price  Year        Genre  \n",
       "0                  JJ Smith          4.7    17350      8  2016  Non Fiction  \n",
       "1              Stephen King          4.6     2052     22  2011      Fiction  \n",
       "2        Jordan B. Peterson          4.7    18979     15  2018  Non Fiction  \n",
       "3             George Orwell          4.7    21424      6  2017      Fiction  \n",
       "4  National Geographic Kids          4.8     7665     12  2019  Non Fiction  "
      ]
     },
     "execution_count": 3,
     "metadata": {},
     "output_type": "execute_result"
    }
   ],
   "source": [
    "df.head()"
   ]
  },
  {
   "cell_type": "markdown",
   "id": "7a2d934c-65c0-4386-866d-04ceb8720892",
   "metadata": {},
   "source": [
    "#### Print the dimensions of the dataset (use the \"shape\" attribute)"
   ]
  },
  {
   "cell_type": "code",
   "execution_count": 4,
   "id": "b5e1fafa-0519-4437-bea4-062f4d200c71",
   "metadata": {},
   "outputs": [
    {
     "data": {
      "text/plain": [
       "(550, 7)"
      ]
     },
     "execution_count": 4,
     "metadata": {},
     "output_type": "execute_result"
    }
   ],
   "source": [
    "df.shape"
   ]
  },
  {
   "cell_type": "markdown",
   "id": "9b271570-240d-47f1-9401-cf63e73b0f45",
   "metadata": {},
   "source": [
    "#### _How many books does the dataset store data about?_"
   ]
  },
  {
   "cell_type": "code",
   "execution_count": 5,
   "id": "7ed5aac1-a6a5-43e2-8af1-dcf31020a5ea",
   "metadata": {},
   "outputs": [
    {
     "data": {
      "text/plain": [
       "351"
      ]
     },
     "execution_count": 5,
     "metadata": {},
     "output_type": "execute_result"
    }
   ],
   "source": [
    "unique_book_count = df['Name'].nunique()\n",
    "unique_book_count"
   ]
  },
  {
   "cell_type": "markdown",
   "id": "3abe75b3-0f3c-41bd-a817-fe8e1a834ad3",
   "metadata": {},
   "source": [
    "##### **Answer:** 351"
   ]
  },
  {
   "cell_type": "markdown",
   "id": "732b41aa-eb4a-41b5-8ce0-ce6edda16eec",
   "metadata": {},
   "source": [
    "#### Change the case to lowercase and replace the space with a lowercase underscore (snake_style)"
   ]
  },
  {
   "cell_type": "code",
   "execution_count": 6,
   "id": "6bfb40f1-71fc-4a45-a928-178e48ebc959",
   "metadata": {},
   "outputs": [],
   "source": [
    "df.columns = ['name', 'author', 'user_rating', 'reviews', 'price', 'year', 'genre']"
   ]
  },
  {
   "cell_type": "markdown",
   "id": "8cfd941e-cf58-4298-9edb-aea466d58674",
   "metadata": {},
   "source": [
    "### **Primary data research**"
   ]
  },
  {
   "cell_type": "markdown",
   "id": "7ab54a0d-3d40-48cb-b0cb-9c8707ece153",
   "metadata": {},
   "source": [
    "#### Check if all the rows have enough data: print the number of blanks (na) in each column (use the \"isna\" and \"sum\" functions)"
   ]
  },
  {
   "cell_type": "code",
   "execution_count": 7,
   "id": "621626f2-55b3-4c08-a8fc-8d612d9ba53a",
   "metadata": {},
   "outputs": [
    {
     "data": {
      "text/plain": [
       "name           0\n",
       "author         0\n",
       "user_rating    0\n",
       "reviews        0\n",
       "price          0\n",
       "year           0\n",
       "genre          0\n",
       "dtype: int64"
      ]
     },
     "execution_count": 7,
     "metadata": {},
     "output_type": "execute_result"
    }
   ],
   "source": [
    "df.isnull().sum()"
   ]
  },
  {
   "cell_type": "markdown",
   "id": "6d86f33b-d121-49e3-8e9a-4fa3e1927f07",
   "metadata": {},
   "source": [
    "#### _Do any variables have missing values? (Yes / No)_"
   ]
  },
  {
   "cell_type": "markdown",
   "id": "91076c52-be12-42ae-bac4-54b85cf42a9d",
   "metadata": {},
   "source": [
    "##### **Answer:** no"
   ]
  },
  {
   "cell_type": "markdown",
   "id": "eab267ec-6ef1-4c2d-9949-2218d21cb735",
   "metadata": {},
   "source": [
    "#### Check for unique values in the genre column (use the \"unique\" function)\n",
    "#### _What are the unique genres?_"
   ]
  },
  {
   "cell_type": "code",
   "execution_count": 8,
   "id": "92754098-190e-42fb-85c1-46afd5af843f",
   "metadata": {},
   "outputs": [
    {
     "data": {
      "text/plain": [
       "array(['Non Fiction', 'Fiction'], dtype=object)"
      ]
     },
     "execution_count": 8,
     "metadata": {},
     "output_type": "execute_result"
    }
   ],
   "source": [
    "pd.unique(df['genre'])"
   ]
  },
  {
   "cell_type": "markdown",
   "id": "b29dcdb3-eae1-4b44-aa1a-7254eac7aeda",
   "metadata": {},
   "source": [
    "##### **Answer:** Non Fiction, Fiction"
   ]
  },
  {
   "cell_type": "markdown",
   "id": "d06fa584-91bd-43a5-9905-12eb2fa7f296",
   "metadata": {},
   "source": [
    "#### Now look at the price distribution: build a chart (use kind='hist')\n",
    "#### Determine what is the maximum, minimum, average, median price (use the max, min, mean, median functions)"
   ]
  },
  {
   "cell_type": "code",
   "execution_count": 9,
   "id": "d13e2442-bac5-46df-b4b7-0845db2a57e2",
   "metadata": {},
   "outputs": [
    {
     "data": {
      "image/png": "[encoded data removed]",
      "text/plain": [
       "<Figure size 640x480 with 1 Axes>"
      ]
     },
     "metadata": {},
     "output_type": "display_data"
    }
   ],
   "source": [
    "df['price'].plot(kind='hist', bins=10, color='red', edgecolor='black')\n",
    "\n",
    "plt.title('Distribution of Prices')\n",
    "plt.xlabel('Price, USD')\n",
    "plt.ylabel('Frequency')\n",
    "plt.grid()\n",
    "\n",
    "plt.show()"
   ]
  },
  {
   "cell_type": "code",
   "execution_count": 10,
   "id": "c960d6d9-f9cc-4b83-8ccc-37dce79413a4",
   "metadata": {},
   "outputs": [
    {
     "name": "stdout",
     "output_type": "stream",
     "text": [
      "Min price: 0\n",
      "Max price: 105\n",
      "Average price: 13.1\n",
      "Median price: 11.0\n"
     ]
    }
   ],
   "source": [
    "print(f\"Min price: {df['price'].min()}\")\n",
    "print(f\"Max price: {df['price'].max()}\")\n",
    "print(f\"Average price: {df['price'].mean()}\")\n",
    "print(f\"Median price: {df['price'].median()}\")"
   ]
  },
  {
   "cell_type": "markdown",
   "id": "609fdf8f-af6a-4f7b-9a02-095395f5443f",
   "metadata": {},
   "source": [
    "#### _Minimum price ?_"
   ]
  },
  {
   "cell_type": "markdown",
   "id": "1e167443-dcb7-4589-8718-5fd77cfb57ff",
   "metadata": {},
   "source": [
    "##### **Answer:** 0"
   ]
  },
  {
   "cell_type": "markdown",
   "id": "e98ea9a2-2caf-49f7-8c9a-53bb9531ea92",
   "metadata": {},
   "source": [
    "#### _Maximum price ?_"
   ]
  },
  {
   "cell_type": "markdown",
   "id": "6cb2d472-f480-4499-b81d-de78c095c508",
   "metadata": {},
   "source": [
    "##### **Answer:** 105"
   ]
  },
  {
   "cell_type": "markdown",
   "id": "9b0e16d7-b051-4dc9-ae69-5f7eb18bf111",
   "metadata": {},
   "source": [
    "#### _Average price?_"
   ]
  },
  {
   "cell_type": "markdown",
   "id": "3a65c0df-88c1-461a-af1a-242dc8074829",
   "metadata": {},
   "source": [
    "##### **Answer:** 13.1"
   ]
  },
  {
   "cell_type": "markdown",
   "id": "f0370a0c-76b3-484a-842d-33df4ad2eedd",
   "metadata": {},
   "source": [
    "#### _Median price?_"
   ]
  },
  {
   "cell_type": "markdown",
   "id": "e9847b05-a469-49de-b1ee-246b43739219",
   "metadata": {},
   "source": [
    "##### **Answer:** 11.0"
   ]
  },
  {
   "cell_type": "markdown",
   "id": "bb5405f8-8034-406c-aed9-a2bb289b15bf",
   "metadata": {},
   "source": [
    "### **Search and sort data**"
   ]
  },
  {
   "cell_type": "markdown",
   "id": "02313355-2b5b-44ea-9fc2-b4f4544fd54e",
   "metadata": {},
   "source": [
    "#### _What is the highest rating in the dataset?_"
   ]
  },
  {
   "cell_type": "code",
   "execution_count": 11,
   "id": "eac29918-37e2-4fd4-84f4-b15f909f16fe",
   "metadata": {},
   "outputs": [
    {
     "data": {
      "text/plain": [
       "4.9"
      ]
     },
     "execution_count": 11,
     "metadata": {},
     "output_type": "execute_result"
    }
   ],
   "source": [
    "max_rating = df[\"user_rating\"].max()\n",
    "max_rating"
   ]
  },
  {
   "cell_type": "markdown",
   "id": "1143c1f1-87d0-4669-b5bd-3345a7ea237b",
   "metadata": {},
   "source": [
    "##### **Answer:** 4.9"
   ]
  },
  {
   "cell_type": "markdown",
   "id": "5058a809-e1b2-45cd-a711-2161624f97a1",
   "metadata": {},
   "source": [
    "#### _How many books have this rating?_"
   ]
  },
  {
   "cell_type": "code",
   "execution_count": 12,
   "id": "517c99c7-7793-44e6-b439-c961a3d864b4",
   "metadata": {},
   "outputs": [
    {
     "data": {
      "text/plain": [
       "52"
      ]
     },
     "execution_count": 12,
     "metadata": {},
     "output_type": "execute_result"
    }
   ],
   "source": [
    "is_highest_rating = df[\"user_rating\"] == max_rating\n",
    "is_highest_rating.sum()"
   ]
  },
  {
   "cell_type": "markdown",
   "id": "41a9e3d1-3f1f-48bf-892d-ae323e2b3dde",
   "metadata": {},
   "source": [
    "##### **Answer:** 52"
   ]
  },
  {
   "cell_type": "markdown",
   "id": "c58c3993-9d91-4c94-9884-37cb0bdd750b",
   "metadata": {},
   "source": [
    "#### _Which book has the most reviews?_"
   ]
  },
  {
   "cell_type": "code",
   "execution_count": 13,
   "id": "72cb4435-7319-42aa-b370-e195577941d6",
   "metadata": {},
   "outputs": [
    {
     "data": {
      "text/html": [
       "<div>\n",
       "<style scoped>\n",
       "    .dataframe tbody tr th:only-of-type {\n",
       "        vertical-align: middle;\n",
       "    }\n",
       "\n",
       "    .dataframe tbody tr th {\n",
       "        vertical-align: top;\n",
       "    }\n",
       "\n",
       "    .dataframe thead th {\n",
       "        text-align: right;\n",
       "    }\n",
       "</style>\n",
       "<table border=\"1\" class=\"dataframe\">\n",
       "  <thead>\n",
       "    <tr style=\"text-align: right;\">\n",
       "      <th></th>\n",
       "      <th>name</th>\n",
       "      <th>author</th>\n",
       "      <th>user_rating</th>\n",
       "      <th>reviews</th>\n",
       "      <th>price</th>\n",
       "      <th>year</th>\n",
       "      <th>genre</th>\n",
       "    </tr>\n",
       "  </thead>\n",
       "  <tbody>\n",
       "    <tr>\n",
       "      <th>534</th>\n",
       "      <td>Where the Crawdads Sing</td>\n",
       "      <td>Delia Owens</td>\n",
       "      <td>4.8</td>\n",
       "      <td>87841</td>\n",
       "      <td>15</td>\n",
       "      <td>2019</td>\n",
       "      <td>Fiction</td>\n",
       "    </tr>\n",
       "  </tbody>\n",
       "</table>\n",
       "</div>"
      ],
      "text/plain": [
       "                        name       author  user_rating  reviews  price  year  \\\n",
       "534  Where the Crawdads Sing  Delia Owens          4.8    87841     15  2019   \n",
       "\n",
       "       genre  \n",
       "534  Fiction  "
      ]
     },
     "execution_count": 13,
     "metadata": {},
     "output_type": "execute_result"
    }
   ],
   "source": [
    "max_reviews = df[\"reviews\"].max()\n",
    "df[df[\"reviews\"] == max_reviews]\n",
    "# max_reviews_indices = df.index[df['reviews'] == df[\"reviews\"].max()].tolist()\n",
    "# df.loc[max_reviews_indices]"
   ]
  },
  {
   "cell_type": "markdown",
   "id": "9f7128b1-67ed-4542-9661-da24da15bc83",
   "metadata": {},
   "source": [
    "##### **Answer:** Book with title - \"Where the Crawdads Sing\""
   ]
  },
  {
   "cell_type": "markdown",
   "id": "98f52395-3d33-4ce8-bec3-f19fe7188c15",
   "metadata": {},
   "source": [
    "#### _Of the books in the Top 50 in 2015, which is the most expensive (you can use an intermediate date frame)?_"
   ]
  },
  {
   "cell_type": "code",
   "execution_count": 14,
   "id": "3261cd76-b0bf-487d-a229-350b05ec5075",
   "metadata": {},
   "outputs": [
    {
     "data": {
      "text/html": [
       "<div>\n",
       "<style scoped>\n",
       "    .dataframe tbody tr th:only-of-type {\n",
       "        vertical-align: middle;\n",
       "    }\n",
       "\n",
       "    .dataframe tbody tr th {\n",
       "        vertical-align: top;\n",
       "    }\n",
       "\n",
       "    .dataframe thead th {\n",
       "        text-align: right;\n",
       "    }\n",
       "</style>\n",
       "<table border=\"1\" class=\"dataframe\">\n",
       "  <thead>\n",
       "    <tr style=\"text-align: right;\">\n",
       "      <th></th>\n",
       "      <th>name</th>\n",
       "      <th>author</th>\n",
       "      <th>user_rating</th>\n",
       "      <th>reviews</th>\n",
       "      <th>price</th>\n",
       "      <th>year</th>\n",
       "      <th>genre</th>\n",
       "    </tr>\n",
       "  </thead>\n",
       "  <tbody>\n",
       "    <tr>\n",
       "      <th>277</th>\n",
       "      <td>Publication Manual of the American Psychologic...</td>\n",
       "      <td>American Psychological Association</td>\n",
       "      <td>4.5</td>\n",
       "      <td>8580</td>\n",
       "      <td>46</td>\n",
       "      <td>2015</td>\n",
       "      <td>Non Fiction</td>\n",
       "    </tr>\n",
       "  </tbody>\n",
       "</table>\n",
       "</div>"
      ],
      "text/plain": [
       "                                                  name  \\\n",
       "277  Publication Manual of the American Psychologic...   \n",
       "\n",
       "                                 author  user_rating  reviews  price  year  \\\n",
       "277  American Psychological Association          4.5     8580     46  2015   \n",
       "\n",
       "           genre  \n",
       "277  Non Fiction  "
      ]
     },
     "execution_count": 14,
     "metadata": {},
     "output_type": "execute_result"
    }
   ],
   "source": [
    "top_50_2015 = df[(df['year'] == 2015)].nlargest(50, 'user_rating')\n",
    "most_expensive_book = top_50_2015[top_50_2015[\"price\"] == top_50_2015[\"price\"].max()]\n",
    "most_expensive_book"
   ]
  },
  {
   "cell_type": "markdown",
   "id": "4d356113-de10-4b83-9d13-8faf114ab521",
   "metadata": {},
   "source": [
    "##### **Answer:** Book with title - \"Publication Manual of the American Psychologic...\""
   ]
  },
  {
   "cell_type": "markdown",
   "id": "f50d4307-a6fb-458d-8960-9d037beb4424",
   "metadata": {},
   "source": [
    "#### _How many books of the Fiction genre were in the Top 50 in 2010 (use &)?_"
   ]
  },
  {
   "cell_type": "code",
   "execution_count": 15,
   "id": "6766ab5d-c2ca-40d9-886a-65d1c5802a3b",
   "metadata": {},
   "outputs": [
    {
     "data": {
      "text/plain": [
       "20"
      ]
     },
     "execution_count": 15,
     "metadata": {},
     "output_type": "execute_result"
    }
   ],
   "source": [
    "top_50_2010 = df[(df['year'] == 2010) & (df[\"genre\"] == \"Fiction\")].nlargest(50, 'user_rating')\n",
    "len(top_50_2010)\n",
    "\n",
    "# top_50_2010 = df[df['year'] == 2010].nlargest(50, 'user_rating')\n",
    "# top_50_2010_fiction = top_50_2010[\"genre\"] == \"Fiction\"\n",
    "# top_50_2010_fiction.sum()"
   ]
  },
  {
   "cell_type": "markdown",
   "id": "2e9687c7-c9d0-4f71-a2e1-156b604946a3",
   "metadata": {},
   "source": [
    "##### **Answer:** 20 books"
   ]
  },
  {
   "cell_type": "markdown",
   "id": "36b43f83-4770-43ab-9abe-3e43c2f42bac",
   "metadata": {},
   "source": [
    "#### _How many books with a 4.9 rating were ranked in 2010 and 2011 (use \"|\" or the \"isin\" function)?_"
   ]
  },
  {
   "cell_type": "code",
   "execution_count": 16,
   "id": "3be11fd2-170d-4f48-a35c-43babc0f5c90",
   "metadata": {},
   "outputs": [
    {
     "data": {
      "text/plain": [
       "1"
      ]
     },
     "execution_count": 16,
     "metadata": {},
     "output_type": "execute_result"
    }
   ],
   "source": [
    "# books = df[(df['user_rating'] == 4.9) & ((df['year'] == 2010) | (df['year'] == 2011))]\n",
    "books = df[(df['user_rating'] == 4.9) & (df['year'].isin([2010, 2011]))]\n",
    "books.shape[0]"
   ]
  },
  {
   "cell_type": "markdown",
   "id": "df72eb00-499d-4a6e-8c9c-06725f1e3164",
   "metadata": {},
   "source": [
    "##### **Answer:** 1 book"
   ]
  },
  {
   "cell_type": "markdown",
   "id": "7622ce3a-d62a-411b-9f81-8f1d0dac373a",
   "metadata": {},
   "source": [
    "#### _And finally, let's sort by ascending price all the books that made it into the ranking in 2015 and cost less than $8 (use the \"sort_values\" function)_"
   ]
  },
  {
   "cell_type": "code",
   "execution_count": 17,
   "id": "4d26db5a-1834-4f86-a571-fefd959867e0",
   "metadata": {},
   "outputs": [
    {
     "data": {
      "text/html": [
       "<div>\n",
       "<style scoped>\n",
       "    .dataframe tbody tr th:only-of-type {\n",
       "        vertical-align: middle;\n",
       "    }\n",
       "\n",
       "    .dataframe tbody tr th {\n",
       "        vertical-align: top;\n",
       "    }\n",
       "\n",
       "    .dataframe thead th {\n",
       "        text-align: right;\n",
       "    }\n",
       "</style>\n",
       "<table border=\"1\" class=\"dataframe\">\n",
       "  <thead>\n",
       "    <tr style=\"text-align: right;\">\n",
       "      <th></th>\n",
       "      <th>name</th>\n",
       "      <th>author</th>\n",
       "      <th>user_rating</th>\n",
       "      <th>reviews</th>\n",
       "      <th>price</th>\n",
       "      <th>year</th>\n",
       "      <th>genre</th>\n",
       "    </tr>\n",
       "  </thead>\n",
       "  <tbody>\n",
       "    <tr>\n",
       "      <th>507</th>\n",
       "      <td>To Kill a Mockingbird</td>\n",
       "      <td>Harper Lee</td>\n",
       "      <td>4.8</td>\n",
       "      <td>26234</td>\n",
       "      <td>0</td>\n",
       "      <td>2015</td>\n",
       "      <td>Fiction</td>\n",
       "    </tr>\n",
       "    <tr>\n",
       "      <th>210</th>\n",
       "      <td>Laugh-Out-Loud Jokes for Kids</td>\n",
       "      <td>Rob Elliott</td>\n",
       "      <td>4.6</td>\n",
       "      <td>6990</td>\n",
       "      <td>4</td>\n",
       "      <td>2015</td>\n",
       "      <td>Non Fiction</td>\n",
       "    </tr>\n",
       "    <tr>\n",
       "      <th>206</th>\n",
       "      <td>Knock-Knock Jokes for Kids</td>\n",
       "      <td>Rob Elliott</td>\n",
       "      <td>4.5</td>\n",
       "      <td>3673</td>\n",
       "      <td>4</td>\n",
       "      <td>2015</td>\n",
       "      <td>Non Fiction</td>\n",
       "    </tr>\n",
       "    <tr>\n",
       "      <th>111</th>\n",
       "      <td>First 100 Words</td>\n",
       "      <td>Roger Priddy</td>\n",
       "      <td>4.7</td>\n",
       "      <td>17323</td>\n",
       "      <td>4</td>\n",
       "      <td>2015</td>\n",
       "      <td>Non Fiction</td>\n",
       "    </tr>\n",
       "    <tr>\n",
       "      <th>123</th>\n",
       "      <td>Giraffes Can't Dance</td>\n",
       "      <td>Giles Andreae</td>\n",
       "      <td>4.8</td>\n",
       "      <td>14038</td>\n",
       "      <td>4</td>\n",
       "      <td>2015</td>\n",
       "      <td>Fiction</td>\n",
       "    </tr>\n",
       "    <tr>\n",
       "      <th>54</th>\n",
       "      <td>Creative Haven Creative Cats Coloring Book (Ad...</td>\n",
       "      <td>Marjorie Sarnat</td>\n",
       "      <td>4.8</td>\n",
       "      <td>4022</td>\n",
       "      <td>4</td>\n",
       "      <td>2015</td>\n",
       "      <td>Non Fiction</td>\n",
       "    </tr>\n",
       "    <tr>\n",
       "      <th>63</th>\n",
       "      <td>Dear Zoo: A Lift-the-Flap Book</td>\n",
       "      <td>Rod Campbell</td>\n",
       "      <td>4.8</td>\n",
       "      <td>10922</td>\n",
       "      <td>5</td>\n",
       "      <td>2015</td>\n",
       "      <td>Fiction</td>\n",
       "    </tr>\n",
       "    <tr>\n",
       "      <th>89</th>\n",
       "      <td>Dover Creative Haven Art Nouveau Animal Design...</td>\n",
       "      <td>Marty Noble</td>\n",
       "      <td>4.6</td>\n",
       "      <td>2134</td>\n",
       "      <td>5</td>\n",
       "      <td>2015</td>\n",
       "      <td>Non Fiction</td>\n",
       "    </tr>\n",
       "    <tr>\n",
       "      <th>478</th>\n",
       "      <td>The Very Hungry Caterpillar</td>\n",
       "      <td>Eric Carle</td>\n",
       "      <td>4.9</td>\n",
       "      <td>19546</td>\n",
       "      <td>5</td>\n",
       "      <td>2015</td>\n",
       "      <td>Fiction</td>\n",
       "    </tr>\n",
       "    <tr>\n",
       "      <th>201</th>\n",
       "      <td>Killing Reagan: The Violent Assault That Chang...</td>\n",
       "      <td>Bill O'Reilly</td>\n",
       "      <td>4.6</td>\n",
       "      <td>5235</td>\n",
       "      <td>5</td>\n",
       "      <td>2015</td>\n",
       "      <td>Non Fiction</td>\n",
       "    </tr>\n",
       "    <tr>\n",
       "      <th>28</th>\n",
       "      <td>Baby Touch and Feel: Animals</td>\n",
       "      <td>DK</td>\n",
       "      <td>4.6</td>\n",
       "      <td>5360</td>\n",
       "      <td>5</td>\n",
       "      <td>2015</td>\n",
       "      <td>Non Fiction</td>\n",
       "    </tr>\n",
       "    <tr>\n",
       "      <th>224</th>\n",
       "      <td>Love You Forever</td>\n",
       "      <td>Robert Munsch</td>\n",
       "      <td>4.8</td>\n",
       "      <td>18613</td>\n",
       "      <td>5</td>\n",
       "      <td>2015</td>\n",
       "      <td>Fiction</td>\n",
       "    </tr>\n",
       "    <tr>\n",
       "      <th>55</th>\n",
       "      <td>Creative Haven Owls Coloring Book (Adult Color...</td>\n",
       "      <td>Marjorie Sarnat</td>\n",
       "      <td>4.8</td>\n",
       "      <td>3871</td>\n",
       "      <td>5</td>\n",
       "      <td>2015</td>\n",
       "      <td>Non Fiction</td>\n",
       "    </tr>\n",
       "    <tr>\n",
       "      <th>17</th>\n",
       "      <td>Adult Coloring Book: Stress Relieving Patterns</td>\n",
       "      <td>Blue Star Coloring</td>\n",
       "      <td>4.4</td>\n",
       "      <td>2951</td>\n",
       "      <td>6</td>\n",
       "      <td>2015</td>\n",
       "      <td>Non Fiction</td>\n",
       "    </tr>\n",
       "    <tr>\n",
       "      <th>376</th>\n",
       "      <td>The Four Agreements: A Practical Guide to Pers...</td>\n",
       "      <td>Don Miguel Ruiz</td>\n",
       "      <td>4.7</td>\n",
       "      <td>23308</td>\n",
       "      <td>6</td>\n",
       "      <td>2015</td>\n",
       "      <td>Non Fiction</td>\n",
       "    </tr>\n",
       "    <tr>\n",
       "      <th>16</th>\n",
       "      <td>Adult Coloring Book: Stress Relieving Animal D...</td>\n",
       "      <td>Blue Star Coloring</td>\n",
       "      <td>4.6</td>\n",
       "      <td>2925</td>\n",
       "      <td>6</td>\n",
       "      <td>2015</td>\n",
       "      <td>Non Fiction</td>\n",
       "    </tr>\n",
       "    <tr>\n",
       "      <th>253</th>\n",
       "      <td>Old School (Diary of a Wimpy Kid #10)</td>\n",
       "      <td>Jeff Kinney</td>\n",
       "      <td>4.8</td>\n",
       "      <td>6169</td>\n",
       "      <td>7</td>\n",
       "      <td>2015</td>\n",
       "      <td>Fiction</td>\n",
       "    </tr>\n",
       "  </tbody>\n",
       "</table>\n",
       "</div>"
      ],
      "text/plain": [
       "                                                  name              author  \\\n",
       "507                              To Kill a Mockingbird          Harper Lee   \n",
       "210                      Laugh-Out-Loud Jokes for Kids         Rob Elliott   \n",
       "206                         Knock-Knock Jokes for Kids         Rob Elliott   \n",
       "111                                    First 100 Words        Roger Priddy   \n",
       "123                               Giraffes Can't Dance       Giles Andreae   \n",
       "54   Creative Haven Creative Cats Coloring Book (Ad...     Marjorie Sarnat   \n",
       "63                      Dear Zoo: A Lift-the-Flap Book        Rod Campbell   \n",
       "89   Dover Creative Haven Art Nouveau Animal Design...         Marty Noble   \n",
       "478                        The Very Hungry Caterpillar          Eric Carle   \n",
       "201  Killing Reagan: The Violent Assault That Chang...       Bill O'Reilly   \n",
       "28                        Baby Touch and Feel: Animals                  DK   \n",
       "224                                   Love You Forever       Robert Munsch   \n",
       "55   Creative Haven Owls Coloring Book (Adult Color...     Marjorie Sarnat   \n",
       "17      Adult Coloring Book: Stress Relieving Patterns  Blue Star Coloring   \n",
       "376  The Four Agreements: A Practical Guide to Pers...     Don Miguel Ruiz   \n",
       "16   Adult Coloring Book: Stress Relieving Animal D...  Blue Star Coloring   \n",
       "253              Old School (Diary of a Wimpy Kid #10)         Jeff Kinney   \n",
       "\n",
       "     user_rating  reviews  price  year        genre  \n",
       "507          4.8    26234      0  2015      Fiction  \n",
       "210          4.6     6990      4  2015  Non Fiction  \n",
       "206          4.5     3673      4  2015  Non Fiction  \n",
       "111          4.7    17323      4  2015  Non Fiction  \n",
       "123          4.8    14038      4  2015      Fiction  \n",
       "54           4.8     4022      4  2015  Non Fiction  \n",
       "63           4.8    10922      5  2015      Fiction  \n",
       "89           4.6     2134      5  2015  Non Fiction  \n",
       "478          4.9    19546      5  2015      Fiction  \n",
       "201          4.6     5235      5  2015  Non Fiction  \n",
       "28           4.6     5360      5  2015  Non Fiction  \n",
       "224          4.8    18613      5  2015      Fiction  \n",
       "55           4.8     3871      5  2015  Non Fiction  \n",
       "17           4.4     2951      6  2015  Non Fiction  \n",
       "376          4.7    23308      6  2015  Non Fiction  \n",
       "16           4.6     2925      6  2015  Non Fiction  \n",
       "253          4.8     6169      7  2015      Fiction  "
      ]
     },
     "execution_count": 17,
     "metadata": {},
     "output_type": "execute_result"
    }
   ],
   "source": [
    "books_2015 = df[(df['year'] == 2015) & (df['price'] < 8)].sort_values(by='price')\n",
    "# books_2015_sorted = books_2015\n",
    "books_2015"
   ]
  },
  {
   "cell_type": "markdown",
   "id": "d51188b6-ee03-4c43-ae70-e04d27c5aaa5",
   "metadata": {},
   "source": [
    "#### _What is the last book in the sorted list?_"
   ]
  },
  {
   "cell_type": "code",
   "execution_count": 18,
   "id": "423f3875-a166-4a2d-b666-7ef8eb4c673a",
   "metadata": {},
   "outputs": [
    {
     "data": {
      "text/plain": [
       "name           Old School (Diary of a Wimpy Kid #10)\n",
       "author                                   Jeff Kinney\n",
       "user_rating                                      4.8\n",
       "reviews                                         6169\n",
       "price                                              7\n",
       "year                                            2015\n",
       "genre                                        Fiction\n",
       "Name: 253, dtype: object"
      ]
     },
     "execution_count": 18,
     "metadata": {},
     "output_type": "execute_result"
    }
   ],
   "source": [
    "books_2015.iloc[-1]"
   ]
  },
  {
   "cell_type": "markdown",
   "id": "6656db08-829a-45ce-a9df-a13e861db573",
   "metadata": {},
   "source": [
    "##### **Answer:** Book with name \"Old School (Diary of a Wimpy Kid #10)\""
   ]
  },
  {
   "cell_type": "markdown",
   "id": "e8cda430-cf64-4935-afbf-18501080261e",
   "metadata": {},
   "source": [
    "### **Aggregate data and join tables**"
   ]
  },
  {
   "cell_type": "markdown",
   "id": "b32745f3-0ed4-46a8-8c19-8d2c05d51b0b",
   "metadata": {},
   "source": [
    "#### Let's look at the maximum and minimum prices for each genre (use the \"groupby\" and \"agg\" functions, and use \"max\" and \"min\" to calculate the minimum and maximum values). Don't select all columns, just the ones you need"
   ]
  },
  {
   "cell_type": "code",
   "execution_count": 19,
   "id": "72f2f693-437f-4954-b7ae-5584c7299cd0",
   "metadata": {},
   "outputs": [
    {
     "data": {
      "text/html": [
       "<div>\n",
       "<style scoped>\n",
       "    .dataframe tbody tr th:only-of-type {\n",
       "        vertical-align: middle;\n",
       "    }\n",
       "\n",
       "    .dataframe tbody tr th {\n",
       "        vertical-align: top;\n",
       "    }\n",
       "\n",
       "    .dataframe thead th {\n",
       "        text-align: right;\n",
       "    }\n",
       "</style>\n",
       "<table border=\"1\" class=\"dataframe\">\n",
       "  <thead>\n",
       "    <tr style=\"text-align: right;\">\n",
       "      <th></th>\n",
       "      <th>genre</th>\n",
       "      <th>max</th>\n",
       "      <th>min</th>\n",
       "    </tr>\n",
       "  </thead>\n",
       "  <tbody>\n",
       "    <tr>\n",
       "      <th>0</th>\n",
       "      <td>Fiction</td>\n",
       "      <td>82</td>\n",
       "      <td>0</td>\n",
       "    </tr>\n",
       "    <tr>\n",
       "      <th>1</th>\n",
       "      <td>Non Fiction</td>\n",
       "      <td>105</td>\n",
       "      <td>0</td>\n",
       "    </tr>\n",
       "  </tbody>\n",
       "</table>\n",
       "</div>"
      ],
      "text/plain": [
       "         genre  max  min\n",
       "0      Fiction   82    0\n",
       "1  Non Fiction  105    0"
      ]
     },
     "execution_count": 19,
     "metadata": {},
     "output_type": "execute_result"
    }
   ],
   "source": [
    "grouped_by_genre = df.groupby(\"genre\", as_index=False)\n",
    "aggregated_prices = grouped_by_genre[\"price\"].agg([\"max\", \"min\"])\n",
    "aggregated_prices"
   ]
  },
  {
   "cell_type": "markdown",
   "id": "1c33b563-6ec7-42fd-acde-89215297b34d",
   "metadata": {},
   "source": [
    "#### _The maximum price for the Fiction genre:_"
   ]
  },
  {
   "cell_type": "markdown",
   "id": "6d54ed24-0f84-4ea0-80d8-6aaee02fc98a",
   "metadata": {},
   "source": [
    "##### **Answer:** 82"
   ]
  },
  {
   "cell_type": "markdown",
   "id": "733608c8-49c3-41b1-8c6d-48dab604a9b0",
   "metadata": {},
   "source": [
    "#### _The minimum price for the Fiction genre:_"
   ]
  },
  {
   "cell_type": "markdown",
   "id": "2fe1405d-40b1-4e9c-8953-37cddca99277",
   "metadata": {},
   "source": [
    "##### **Answer:** 0"
   ]
  },
  {
   "cell_type": "markdown",
   "id": "b37307b0-7760-4262-bb1f-b291c3cf6acd",
   "metadata": {},
   "source": [
    "#### _The maximum price for the Non Fiction genre:_"
   ]
  },
  {
   "cell_type": "markdown",
   "id": "b0246bd9-1a4c-40b2-ba86-15b17f1f1521",
   "metadata": {},
   "source": [
    "##### **Answer:** 105"
   ]
  },
  {
   "cell_type": "markdown",
   "id": "95b98dba-c391-4b77-aabd-82c06eecf462",
   "metadata": {},
   "source": [
    "#### _The minimum price for the Non Fiction genre:_"
   ]
  },
  {
   "cell_type": "markdown",
   "id": "8b2e5c96-bd3a-447b-86b2-54dbc1e09100",
   "metadata": {},
   "source": [
    "##### **Answer:** 0"
   ]
  },
  {
   "cell_type": "markdown",
   "id": "825b5cf2-0092-4573-8572-06f12c85287e",
   "metadata": {},
   "source": [
    "#### Now create a new dataframe that will contain the number of books for each author (use the \"groupby\" and \"agg\" functions, and use \"count\" to count the number). Do not take all columns, select only the necessary ones"
   ]
  },
  {
   "cell_type": "code",
   "execution_count": 20,
   "id": "33024545-da89-482e-86dc-51f6b032e1c2",
   "metadata": {},
   "outputs": [
    {
     "name": "stdout",
     "output_type": "stream",
     "text": [
      "                         author  count\n",
      "0              Abraham Verghese      2\n",
      "1                Adam Gasiewski      1\n",
      "2                 Adam Mansbach      1\n",
      "3                     Adir Levy      1\n",
      "4    Admiral William H. McRaven      1\n",
      "..                          ...    ...\n",
      "243             Walter Isaacson      3\n",
      "244               William Davis      2\n",
      "245            William P. Young      2\n",
      "246            Wizards RPG Team      3\n",
      "247                Zhi Gang Sha      2\n",
      "\n",
      "[248 rows x 2 columns]\n"
     ]
    }
   ],
   "source": [
    "grouped_by_auhtor = df.groupby(\"author\", as_index=False)\n",
    "aggregated_authors = grouped_by_auhtor[\"name\"].agg([\"count\"])\n",
    "# pd.set_option('display.max_rows', None)\n",
    "print(aggregated_authors)\n",
    "# pd.reset_option('display.max_rows')"
   ]
  },
  {
   "cell_type": "markdown",
   "id": "d4a308e1-38fb-42e1-8f74-baa14995aeaa",
   "metadata": {},
   "source": [
    "#### _What is the dimension of the table?_"
   ]
  },
  {
   "cell_type": "code",
   "execution_count": 21,
   "id": "ba126dcc-a765-416a-bf84-bafac158b02b",
   "metadata": {},
   "outputs": [
    {
     "data": {
      "text/plain": [
       "(248, 2)"
      ]
     },
     "execution_count": 21,
     "metadata": {},
     "output_type": "execute_result"
    }
   ],
   "source": [
    "aggregated_authors.shape"
   ]
  },
  {
   "cell_type": "markdown",
   "id": "b18f92fd-cb75-4783-afef-fb79911be9df",
   "metadata": {},
   "source": [
    "##### **Answer:** 248 rows × 2 columns"
   ]
  },
  {
   "cell_type": "markdown",
   "id": "50b56b9f-e63a-4b63-adf9-8970f2571b6c",
   "metadata": {},
   "source": [
    "#### _Which author has the most books?_"
   ]
  },
  {
   "cell_type": "code",
   "execution_count": 22,
   "id": "0553e41d-1220-4807-b803-0c469997606d",
   "metadata": {},
   "outputs": [
    {
     "data": {
      "text/plain": [
       "'Jeff Kinney'"
      ]
     },
     "execution_count": 22,
     "metadata": {},
     "output_type": "execute_result"
    }
   ],
   "source": [
    "max_count_index = aggregated_authors['count'].idxmax()\n",
    "author_with_most_books = aggregated_authors.loc[max_count_index, 'author']\n",
    "author_with_most_books"
   ]
  },
  {
   "cell_type": "markdown",
   "id": "f5cb9732-4b1e-4701-b2a9-447b6c32e14d",
   "metadata": {},
   "source": [
    "##### **Answer:** 'Jeff Kinney'"
   ]
  },
  {
   "cell_type": "markdown",
   "id": "a0595859-cb90-4f2d-a501-39e934fcd0c6",
   "metadata": {},
   "source": [
    "#### _How many books are there by this author?_"
   ]
  },
  {
   "cell_type": "code",
   "execution_count": 23,
   "id": "84cdc84f-0145-495d-bba2-146004ac039c",
   "metadata": {},
   "outputs": [
    {
     "data": {
      "text/plain": [
       "12"
      ]
     },
     "execution_count": 23,
     "metadata": {},
     "output_type": "execute_result"
    }
   ],
   "source": [
    "author_with_most_books = aggregated_authors.loc[max_count_index, 'count']\n",
    "author_with_most_books"
   ]
  },
  {
   "cell_type": "markdown",
   "id": "e86489a8-edbf-42a7-902a-033485c121f9",
   "metadata": {},
   "source": [
    "##### **Answer:** 12"
   ]
  },
  {
   "cell_type": "markdown",
   "id": "f960ec7f-dec5-4536-8a1b-5e138ba9be89",
   "metadata": {},
   "source": [
    "#### Now create a second dataframe that will contain the average rating for each author (use the \"groupby\" and \"agg\" functions, and use \"mean\" to calculate the average). Do not take all columns, select only the necessary ones"
   ]
  },
  {
   "cell_type": "code",
   "execution_count": 24,
   "id": "f20d1047-2154-40a2-8e3a-5a030081863a",
   "metadata": {},
   "outputs": [
    {
     "data": {
      "text/html": [
       "<div>\n",
       "<style scoped>\n",
       "    .dataframe tbody tr th:only-of-type {\n",
       "        vertical-align: middle;\n",
       "    }\n",
       "\n",
       "    .dataframe tbody tr th {\n",
       "        vertical-align: top;\n",
       "    }\n",
       "\n",
       "    .dataframe thead th {\n",
       "        text-align: right;\n",
       "    }\n",
       "</style>\n",
       "<table border=\"1\" class=\"dataframe\">\n",
       "  <thead>\n",
       "    <tr style=\"text-align: right;\">\n",
       "      <th></th>\n",
       "      <th>author</th>\n",
       "      <th>mean</th>\n",
       "    </tr>\n",
       "  </thead>\n",
       "  <tbody>\n",
       "    <tr>\n",
       "      <th>0</th>\n",
       "      <td>Abraham Verghese</td>\n",
       "      <td>4.60</td>\n",
       "    </tr>\n",
       "    <tr>\n",
       "      <th>1</th>\n",
       "      <td>Adam Gasiewski</td>\n",
       "      <td>4.40</td>\n",
       "    </tr>\n",
       "    <tr>\n",
       "      <th>2</th>\n",
       "      <td>Adam Mansbach</td>\n",
       "      <td>4.80</td>\n",
       "    </tr>\n",
       "    <tr>\n",
       "      <th>3</th>\n",
       "      <td>Adir Levy</td>\n",
       "      <td>4.80</td>\n",
       "    </tr>\n",
       "    <tr>\n",
       "      <th>4</th>\n",
       "      <td>Admiral William H. McRaven</td>\n",
       "      <td>4.70</td>\n",
       "    </tr>\n",
       "    <tr>\n",
       "      <th>...</th>\n",
       "      <td>...</td>\n",
       "      <td>...</td>\n",
       "    </tr>\n",
       "    <tr>\n",
       "      <th>243</th>\n",
       "      <td>Walter Isaacson</td>\n",
       "      <td>4.57</td>\n",
       "    </tr>\n",
       "    <tr>\n",
       "      <th>244</th>\n",
       "      <td>William Davis</td>\n",
       "      <td>4.40</td>\n",
       "    </tr>\n",
       "    <tr>\n",
       "      <th>245</th>\n",
       "      <td>William P. Young</td>\n",
       "      <td>4.60</td>\n",
       "    </tr>\n",
       "    <tr>\n",
       "      <th>246</th>\n",
       "      <td>Wizards RPG Team</td>\n",
       "      <td>4.80</td>\n",
       "    </tr>\n",
       "    <tr>\n",
       "      <th>247</th>\n",
       "      <td>Zhi Gang Sha</td>\n",
       "      <td>4.60</td>\n",
       "    </tr>\n",
       "  </tbody>\n",
       "</table>\n",
       "<p>248 rows × 2 columns</p>\n",
       "</div>"
      ],
      "text/plain": [
       "                         author  mean\n",
       "0              Abraham Verghese  4.60\n",
       "1                Adam Gasiewski  4.40\n",
       "2                 Adam Mansbach  4.80\n",
       "3                     Adir Levy  4.80\n",
       "4    Admiral William H. McRaven  4.70\n",
       "..                          ...   ...\n",
       "243             Walter Isaacson  4.57\n",
       "244               William Davis  4.40\n",
       "245            William P. Young  4.60\n",
       "246            Wizards RPG Team  4.80\n",
       "247                Zhi Gang Sha  4.60\n",
       "\n",
       "[248 rows x 2 columns]"
      ]
     },
     "execution_count": 24,
     "metadata": {},
     "output_type": "execute_result"
    }
   ],
   "source": [
    "aggregated_authors_mean = grouped_by_auhtor[\"user_rating\"].agg([\"mean\"])\n",
    "# aggregated_authors_mean = grouped_by_auhtor[\"user_rating\"].agg([\"mean\"]).rename(columns={\"mean\": \"mean_rating\"})\n",
    "# aggregated_authors_mean = grouped_by_auhtor[\"user_rating\"].agg([lambda x: round(x.mean(), 2)])\n",
    "aggregated_authors_mean[\"mean\"] = aggregated_authors_mean[\"mean\"].round(2)\n",
    "aggregated_authors_mean"
   ]
  },
  {
   "cell_type": "markdown",
   "id": "e7bc574b-ed77-49f7-9787-680114170022",
   "metadata": {},
   "source": [
    "#### _Which author has the lowest average rating?_"
   ]
  },
  {
   "cell_type": "code",
   "execution_count": 25,
   "id": "a9b98eda-a9ca-458d-b09b-cc4299af93e9",
   "metadata": {},
   "outputs": [],
   "source": [
    "min_rating_index = aggregated_authors_mean['mean'].idxmin()"
   ]
  },
  {
   "cell_type": "code",
   "execution_count": 26,
   "id": "63be0994-b177-4362-aa18-414a07400ed5",
   "metadata": {},
   "outputs": [
    {
     "data": {
      "text/plain": [
       "'Donna Tartt'"
      ]
     },
     "execution_count": 26,
     "metadata": {},
     "output_type": "execute_result"
    }
   ],
   "source": [
    "author_with_lowest_rating = aggregated_authors_mean.loc[min_rating_index, 'author']\n",
    "author_with_lowest_rating"
   ]
  },
  {
   "cell_type": "markdown",
   "id": "8223e9fc-50be-49ce-95c1-1e1cdefa11a3",
   "metadata": {},
   "source": [
    "##### **Answer:** \"Donna Tartt\""
   ]
  },
  {
   "cell_type": "markdown",
   "id": "54345829-1eb8-4e4b-a3db-79cf935811bc",
   "metadata": {},
   "source": [
    "#### _What is the average rating of this author?_"
   ]
  },
  {
   "cell_type": "code",
   "execution_count": 27,
   "id": "4c760685-f7f1-433e-91f7-941b2667ce98",
   "metadata": {},
   "outputs": [
    {
     "data": {
      "text/plain": [
       "3.9"
      ]
     },
     "execution_count": 27,
     "metadata": {},
     "output_type": "execute_result"
    }
   ],
   "source": [
    "author_avg_rating = aggregated_authors_mean.loc[min_rating_index, 'mean']\n",
    "author_avg_rating"
   ]
  },
  {
   "cell_type": "markdown",
   "id": "6507738a-cf2b-4258-ae93-5e9546dc7383",
   "metadata": {},
   "source": [
    "##### **Answer:** 3.9"
   ]
  },
  {
   "cell_type": "markdown",
   "id": "11f11462-c603-498d-8719-69e13dd1d427",
   "metadata": {},
   "source": [
    "#### Combine the last two dataframes so that you can see the number of books and the average rating for each author (use the \"concat\" function with \"axis=1\"). Save the result to a variable"
   ]
  },
  {
   "cell_type": "code",
   "execution_count": 28,
   "id": "03290cbd-db72-4f79-aabe-2437f232978c",
   "metadata": {},
   "outputs": [
    {
     "data": {
      "text/html": [
       "<div>\n",
       "<style scoped>\n",
       "    .dataframe tbody tr th:only-of-type {\n",
       "        vertical-align: middle;\n",
       "    }\n",
       "\n",
       "    .dataframe tbody tr th {\n",
       "        vertical-align: top;\n",
       "    }\n",
       "\n",
       "    .dataframe thead th {\n",
       "        text-align: right;\n",
       "    }\n",
       "</style>\n",
       "<table border=\"1\" class=\"dataframe\">\n",
       "  <thead>\n",
       "    <tr style=\"text-align: right;\">\n",
       "      <th></th>\n",
       "      <th>author</th>\n",
       "      <th>count</th>\n",
       "      <th>mean</th>\n",
       "    </tr>\n",
       "  </thead>\n",
       "  <tbody>\n",
       "    <tr>\n",
       "      <th>0</th>\n",
       "      <td>Abraham Verghese</td>\n",
       "      <td>2</td>\n",
       "      <td>4.60</td>\n",
       "    </tr>\n",
       "    <tr>\n",
       "      <th>1</th>\n",
       "      <td>Adam Gasiewski</td>\n",
       "      <td>1</td>\n",
       "      <td>4.40</td>\n",
       "    </tr>\n",
       "    <tr>\n",
       "      <th>2</th>\n",
       "      <td>Adam Mansbach</td>\n",
       "      <td>1</td>\n",
       "      <td>4.80</td>\n",
       "    </tr>\n",
       "    <tr>\n",
       "      <th>3</th>\n",
       "      <td>Adir Levy</td>\n",
       "      <td>1</td>\n",
       "      <td>4.80</td>\n",
       "    </tr>\n",
       "    <tr>\n",
       "      <th>4</th>\n",
       "      <td>Admiral William H. McRaven</td>\n",
       "      <td>1</td>\n",
       "      <td>4.70</td>\n",
       "    </tr>\n",
       "    <tr>\n",
       "      <th>...</th>\n",
       "      <td>...</td>\n",
       "      <td>...</td>\n",
       "      <td>...</td>\n",
       "    </tr>\n",
       "    <tr>\n",
       "      <th>243</th>\n",
       "      <td>Walter Isaacson</td>\n",
       "      <td>3</td>\n",
       "      <td>4.57</td>\n",
       "    </tr>\n",
       "    <tr>\n",
       "      <th>244</th>\n",
       "      <td>William Davis</td>\n",
       "      <td>2</td>\n",
       "      <td>4.40</td>\n",
       "    </tr>\n",
       "    <tr>\n",
       "      <th>245</th>\n",
       "      <td>William P. Young</td>\n",
       "      <td>2</td>\n",
       "      <td>4.60</td>\n",
       "    </tr>\n",
       "    <tr>\n",
       "      <th>246</th>\n",
       "      <td>Wizards RPG Team</td>\n",
       "      <td>3</td>\n",
       "      <td>4.80</td>\n",
       "    </tr>\n",
       "    <tr>\n",
       "      <th>247</th>\n",
       "      <td>Zhi Gang Sha</td>\n",
       "      <td>2</td>\n",
       "      <td>4.60</td>\n",
       "    </tr>\n",
       "  </tbody>\n",
       "</table>\n",
       "<p>248 rows × 3 columns</p>\n",
       "</div>"
      ],
      "text/plain": [
       "                         author  count  mean\n",
       "0              Abraham Verghese      2  4.60\n",
       "1                Adam Gasiewski      1  4.40\n",
       "2                 Adam Mansbach      1  4.80\n",
       "3                     Adir Levy      1  4.80\n",
       "4    Admiral William H. McRaven      1  4.70\n",
       "..                          ...    ...   ...\n",
       "243             Walter Isaacson      3  4.57\n",
       "244               William Davis      2  4.40\n",
       "245            William P. Young      2  4.60\n",
       "246            Wizards RPG Team      3  4.80\n",
       "247                Zhi Gang Sha      2  4.60\n",
       "\n",
       "[248 rows x 3 columns]"
      ]
     },
     "execution_count": 28,
     "metadata": {},
     "output_type": "execute_result"
    }
   ],
   "source": [
    "combined_df = pd.concat([aggregated_authors.set_index(\"author\"), aggregated_authors_mean.set_index(\"author\")], axis=1).reset_index()\n",
    "combined_df"
   ]
  },
  {
   "cell_type": "markdown",
   "id": "332d0437-ffdb-4996-adc9-658efad720c3",
   "metadata": {},
   "source": [
    "#### Sort the dataframe by increasing number of books and increasing rating (use the \"sort_values\" function)"
   ]
  },
  {
   "cell_type": "code",
   "execution_count": 29,
   "id": "e1a24c96-4bd1-4cc4-b12a-c70b82564c20",
   "metadata": {},
   "outputs": [
    {
     "data": {
      "text/html": [
       "<div>\n",
       "<style scoped>\n",
       "    .dataframe tbody tr th:only-of-type {\n",
       "        vertical-align: middle;\n",
       "    }\n",
       "\n",
       "    .dataframe tbody tr th {\n",
       "        vertical-align: top;\n",
       "    }\n",
       "\n",
       "    .dataframe thead th {\n",
       "        text-align: right;\n",
       "    }\n",
       "</style>\n",
       "<table border=\"1\" class=\"dataframe\">\n",
       "  <thead>\n",
       "    <tr style=\"text-align: right;\">\n",
       "      <th></th>\n",
       "      <th>author</th>\n",
       "      <th>count</th>\n",
       "      <th>mean</th>\n",
       "    </tr>\n",
       "  </thead>\n",
       "  <tbody>\n",
       "    <tr>\n",
       "      <th>171</th>\n",
       "      <td>Muriel Barbery</td>\n",
       "      <td>1</td>\n",
       "      <td>4.00</td>\n",
       "    </tr>\n",
       "    <tr>\n",
       "      <th>43</th>\n",
       "      <td>Chris Cleave</td>\n",
       "      <td>1</td>\n",
       "      <td>4.10</td>\n",
       "    </tr>\n",
       "    <tr>\n",
       "      <th>109</th>\n",
       "      <td>Ian K. Smith M.D.</td>\n",
       "      <td>1</td>\n",
       "      <td>4.10</td>\n",
       "    </tr>\n",
       "    <tr>\n",
       "      <th>186</th>\n",
       "      <td>Pierre Dukan</td>\n",
       "      <td>1</td>\n",
       "      <td>4.10</td>\n",
       "    </tr>\n",
       "    <tr>\n",
       "      <th>81</th>\n",
       "      <td>Elizabeth Strout</td>\n",
       "      <td>1</td>\n",
       "      <td>4.20</td>\n",
       "    </tr>\n",
       "    <tr>\n",
       "      <th>...</th>\n",
       "      <td>...</td>\n",
       "      <td>...</td>\n",
       "      <td>...</td>\n",
       "    </tr>\n",
       "    <tr>\n",
       "      <th>11</th>\n",
       "      <td>American Psychological Association</td>\n",
       "      <td>10</td>\n",
       "      <td>4.50</td>\n",
       "    </tr>\n",
       "    <tr>\n",
       "      <th>226</th>\n",
       "      <td>Suzanne Collins</td>\n",
       "      <td>11</td>\n",
       "      <td>4.66</td>\n",
       "    </tr>\n",
       "    <tr>\n",
       "      <th>92</th>\n",
       "      <td>Gary Chapman</td>\n",
       "      <td>11</td>\n",
       "      <td>4.74</td>\n",
       "    </tr>\n",
       "    <tr>\n",
       "      <th>197</th>\n",
       "      <td>Rick Riordan</td>\n",
       "      <td>11</td>\n",
       "      <td>4.77</td>\n",
       "    </tr>\n",
       "    <tr>\n",
       "      <th>120</th>\n",
       "      <td>Jeff Kinney</td>\n",
       "      <td>12</td>\n",
       "      <td>4.80</td>\n",
       "    </tr>\n",
       "  </tbody>\n",
       "</table>\n",
       "<p>248 rows × 3 columns</p>\n",
       "</div>"
      ],
      "text/plain": [
       "                                 author  count  mean\n",
       "171                      Muriel Barbery      1  4.00\n",
       "43                         Chris Cleave      1  4.10\n",
       "109                   Ian K. Smith M.D.      1  4.10\n",
       "186                        Pierre Dukan      1  4.10\n",
       "81                     Elizabeth Strout      1  4.20\n",
       "..                                  ...    ...   ...\n",
       "11   American Psychological Association     10  4.50\n",
       "226                     Suzanne Collins     11  4.66\n",
       "92                         Gary Chapman     11  4.74\n",
       "197                        Rick Riordan     11  4.77\n",
       "120                         Jeff Kinney     12  4.80\n",
       "\n",
       "[248 rows x 3 columns]"
      ]
     },
     "execution_count": 29,
     "metadata": {},
     "output_type": "execute_result"
    }
   ],
   "source": [
    "combined_df = combined_df.sort_values(by=[\"count\", \"mean\"], ascending=[True, True])\n",
    "# combined_df.sort_values(by=[\"mean\", \"count\"], ascending=[True, True])\n",
    "combined_df"
   ]
  },
  {
   "cell_type": "markdown",
   "id": "2b883365-86db-48ae-b3b4-dab32baa9e57",
   "metadata": {},
   "source": [
    "#### _Which author is first on the list?_"
   ]
  },
  {
   "cell_type": "code",
   "execution_count": 30,
   "id": "3fd9055f-2c21-46ff-aedf-eb52c4935381",
   "metadata": {},
   "outputs": [
    {
     "name": "stdout",
     "output_type": "stream",
     "text": [
      "Muriel Barbery\n",
      "Abraham Verghese\n"
     ]
    }
   ],
   "source": [
    "print(combined_df.iloc[0]['author'])\n",
    "print(combined_df.loc[0]['author'])"
   ]
  },
  {
   "cell_type": "markdown",
   "id": "15613e89-09cf-4fed-9cff-b7846fb0327f",
   "metadata": {},
   "source": [
    "##### **Answer:** Muriel Barbery"
   ]
  },
  {
   "cell_type": "markdown",
   "id": "baa447a2-e328-4f99-b441-c25c6dec7853",
   "metadata": {},
   "source": [
    "## **Visualization**"
   ]
  },
  {
   "cell_type": "code",
   "execution_count": 31,
   "id": "2e5f3c97-d2e7-4e40-af31-15f21b92e4ed",
   "metadata": {},
   "outputs": [
    {
     "data": {
      "image/png": "[encoded data removed]",
      "text/plain": [
       "<Figure size 1000x1000 with 1 Axes>"
      ]
     },
     "metadata": {},
     "output_type": "display_data"
    }
   ],
   "source": [
    "unique_name_books = df.drop_duplicates(subset=['name'])\n",
    "best_sellings = unique_name_books.nlargest(10, 'reviews')\n",
    "\n",
    "plt.figure(figsize=(10, 10))\n",
    "plt.pie(best_sellings['reviews'],\n",
    "        labels=best_sellings['name'] + ' by ' + best_sellings['author'], \n",
    "        autopct='%1.2f%%')\n",
    "plt.title('Top 10 books by number of reviews', fontsize=20)\n",
    "plt.show()"
   ]
  },
  {
   "cell_type": "code",
   "execution_count": 32,
   "id": "29a86d30-b66b-4a1f-a507-7e4c49e68128",
   "metadata": {},
   "outputs": [
    {
     "data": {
      "image/png": "[encoded data removed]",
      "text/plain": [
       "<Figure size 1000x600 with 1 Axes>"
      ]
     },
     "metadata": {},
     "output_type": "display_data"
    }
   ],
   "source": [
    "sns.set_style(\"darkgrid\",  {'axes.labelcolor':\"(0.2,0.2,0.8)\", 'axes.edgecolor':'#061358',\n",
    "'xtick.color':'#0A5806'})\n",
    "plt.figure(figsize=(10, 6))\n",
    "plt.title('Price graph by year and genre')\n",
    "sns.lineplot(x='year', \n",
    "             y='price', \n",
    "             hue=\"genre\", \n",
    "             palette=[\"red\", \"blue\"],\n",
    "             dashes=[5, 2],\n",
    "             data=df)\n",
    "plt.show()"
   ]
  }
 ],
 "metadata": {
  "kernelspec": {
   "display_name": "Python 3 (ipykernel)",
   "language": "python",
   "name": "python3"
  },
  "language_info": {
   "codemirror_mode": {
    "name": "ipython",
    "version": 3
   },
   "file_extension": ".py",
   "mimetype": "text/x-python",
   "name": "python",
   "nbconvert_exporter": "python",
   "pygments_lexer": "ipython3",
   "version": "3.10.11"
  }
 },
 "nbformat": 4,
 "nbformat_minor": 5
}
